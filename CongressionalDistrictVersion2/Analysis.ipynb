{
 "cells": [
  {
   "cell_type": "code",
   "execution_count": 1,
   "id": "88015ad3",
   "metadata": {},
   "outputs": [],
   "source": [
    "import pandas as pd\n",
    "import matplotlib.pyplot as plt"
   ]
  },
  {
   "cell_type": "code",
   "execution_count": 2,
   "id": "90d17d89",
   "metadata": {},
   "outputs": [],
   "source": [
    "df=pd.read_csv(\"Cong2.csv\")"
   ]
  },
  {
   "cell_type": "code",
   "execution_count": 3,
   "id": "a8a2c7ea",
   "metadata": {},
   "outputs": [
    {
     "data": {
      "text/html": [
       "<div>\n",
       "<style scoped>\n",
       "    .dataframe tbody tr th:only-of-type {\n",
       "        vertical-align: middle;\n",
       "    }\n",
       "\n",
       "    .dataframe tbody tr th {\n",
       "        vertical-align: top;\n",
       "    }\n",
       "\n",
       "    .dataframe thead th {\n",
       "        text-align: right;\n",
       "    }\n",
       "</style>\n",
       "<table border=\"1\" class=\"dataframe\">\n",
       "  <thead>\n",
       "    <tr style=\"text-align: right;\">\n",
       "      <th></th>\n",
       "      <th>Unnamed: 0</th>\n",
       "      <th>Step</th>\n",
       "      <th>county_splits</th>\n",
       "      <th>pop_deviation</th>\n",
       "      <th>cut_edges</th>\n",
       "      <th>Mean-median</th>\n",
       "      <th>Efficiency_gap</th>\n",
       "      <th>Dem_Victories</th>\n",
       "      <th>COI0_Splits</th>\n",
       "      <th>COI1_Splits</th>\n",
       "      <th>COI2_Splits</th>\n",
       "      <th>COI3_Splits</th>\n",
       "      <th>COI0_UoM</th>\n",
       "      <th>COI1_UoM</th>\n",
       "      <th>COI2_UoM</th>\n",
       "      <th>COI3_UoM</th>\n",
       "      <th>COI0_ESI</th>\n",
       "      <th>COI1_ESI</th>\n",
       "      <th>COI2_ESI</th>\n",
       "      <th>COI3_ESI</th>\n",
       "    </tr>\n",
       "  </thead>\n",
       "  <tbody>\n",
       "    <tr>\n",
       "      <th>0</th>\n",
       "      <td>0</td>\n",
       "      <td>0.0</td>\n",
       "      <td>15.0</td>\n",
       "      <td>0.000470</td>\n",
       "      <td>12825.0</td>\n",
       "      <td>-0.043045</td>\n",
       "      <td>-0.155093</td>\n",
       "      <td>5.0</td>\n",
       "      <td>1.0</td>\n",
       "      <td>0.0</td>\n",
       "      <td>1.0</td>\n",
       "      <td>0.0</td>\n",
       "      <td>0.028374</td>\n",
       "      <td>2.562741e-15</td>\n",
       "      <td>0.597155</td>\n",
       "      <td>-6.406853e-15</td>\n",
       "      <td>0.005757</td>\n",
       "      <td>3.552714e-15</td>\n",
       "      <td>0.329670</td>\n",
       "      <td>-8.881784e-15</td>\n",
       "    </tr>\n",
       "    <tr>\n",
       "      <th>1</th>\n",
       "      <td>1</td>\n",
       "      <td>1.0</td>\n",
       "      <td>15.0</td>\n",
       "      <td>0.002196</td>\n",
       "      <td>12633.0</td>\n",
       "      <td>-0.043131</td>\n",
       "      <td>-0.156296</td>\n",
       "      <td>5.0</td>\n",
       "      <td>1.0</td>\n",
       "      <td>0.0</td>\n",
       "      <td>1.0</td>\n",
       "      <td>0.0</td>\n",
       "      <td>0.028374</td>\n",
       "      <td>2.562741e-15</td>\n",
       "      <td>0.597155</td>\n",
       "      <td>-6.406853e-15</td>\n",
       "      <td>0.005757</td>\n",
       "      <td>3.552714e-15</td>\n",
       "      <td>0.329670</td>\n",
       "      <td>-8.881784e-15</td>\n",
       "    </tr>\n",
       "    <tr>\n",
       "      <th>2</th>\n",
       "      <td>2</td>\n",
       "      <td>2.0</td>\n",
       "      <td>15.0</td>\n",
       "      <td>0.003023</td>\n",
       "      <td>12434.0</td>\n",
       "      <td>-0.041211</td>\n",
       "      <td>-0.156296</td>\n",
       "      <td>5.0</td>\n",
       "      <td>1.0</td>\n",
       "      <td>0.0</td>\n",
       "      <td>1.0</td>\n",
       "      <td>0.0</td>\n",
       "      <td>0.028374</td>\n",
       "      <td>2.562741e-15</td>\n",
       "      <td>0.597155</td>\n",
       "      <td>-6.406853e-15</td>\n",
       "      <td>0.005757</td>\n",
       "      <td>3.552714e-15</td>\n",
       "      <td>0.329670</td>\n",
       "      <td>-8.881784e-15</td>\n",
       "    </tr>\n",
       "    <tr>\n",
       "      <th>3</th>\n",
       "      <td>3</td>\n",
       "      <td>3.0</td>\n",
       "      <td>17.0</td>\n",
       "      <td>0.006422</td>\n",
       "      <td>12617.0</td>\n",
       "      <td>-0.031177</td>\n",
       "      <td>-0.084625</td>\n",
       "      <td>6.0</td>\n",
       "      <td>1.0</td>\n",
       "      <td>0.0</td>\n",
       "      <td>1.0</td>\n",
       "      <td>0.0</td>\n",
       "      <td>0.028374</td>\n",
       "      <td>2.562741e-15</td>\n",
       "      <td>0.657743</td>\n",
       "      <td>-6.406853e-15</td>\n",
       "      <td>0.005757</td>\n",
       "      <td>3.552714e-15</td>\n",
       "      <td>0.393189</td>\n",
       "      <td>-8.881784e-15</td>\n",
       "    </tr>\n",
       "    <tr>\n",
       "      <th>4</th>\n",
       "      <td>4</td>\n",
       "      <td>4.0</td>\n",
       "      <td>19.0</td>\n",
       "      <td>0.014091</td>\n",
       "      <td>12644.0</td>\n",
       "      <td>-0.030989</td>\n",
       "      <td>-0.085297</td>\n",
       "      <td>6.0</td>\n",
       "      <td>1.0</td>\n",
       "      <td>0.0</td>\n",
       "      <td>1.0</td>\n",
       "      <td>0.0</td>\n",
       "      <td>0.028374</td>\n",
       "      <td>2.562741e-15</td>\n",
       "      <td>0.657743</td>\n",
       "      <td>-6.406853e-15</td>\n",
       "      <td>0.005757</td>\n",
       "      <td>3.552714e-15</td>\n",
       "      <td>0.393189</td>\n",
       "      <td>-8.881784e-15</td>\n",
       "    </tr>\n",
       "  </tbody>\n",
       "</table>\n",
       "</div>"
      ],
      "text/plain": [
       "   Unnamed: 0  Step  county_splits  pop_deviation  cut_edges  Mean-median  \\\n",
       "0           0   0.0           15.0       0.000470    12825.0    -0.043045   \n",
       "1           1   1.0           15.0       0.002196    12633.0    -0.043131   \n",
       "2           2   2.0           15.0       0.003023    12434.0    -0.041211   \n",
       "3           3   3.0           17.0       0.006422    12617.0    -0.031177   \n",
       "4           4   4.0           19.0       0.014091    12644.0    -0.030989   \n",
       "\n",
       "   Efficiency_gap  Dem_Victories  COI0_Splits  COI1_Splits  COI2_Splits  \\\n",
       "0       -0.155093            5.0          1.0          0.0          1.0   \n",
       "1       -0.156296            5.0          1.0          0.0          1.0   \n",
       "2       -0.156296            5.0          1.0          0.0          1.0   \n",
       "3       -0.084625            6.0          1.0          0.0          1.0   \n",
       "4       -0.085297            6.0          1.0          0.0          1.0   \n",
       "\n",
       "   COI3_Splits  COI0_UoM      COI1_UoM  COI2_UoM      COI3_UoM  COI0_ESI  \\\n",
       "0          0.0  0.028374  2.562741e-15  0.597155 -6.406853e-15  0.005757   \n",
       "1          0.0  0.028374  2.562741e-15  0.597155 -6.406853e-15  0.005757   \n",
       "2          0.0  0.028374  2.562741e-15  0.597155 -6.406853e-15  0.005757   \n",
       "3          0.0  0.028374  2.562741e-15  0.657743 -6.406853e-15  0.005757   \n",
       "4          0.0  0.028374  2.562741e-15  0.657743 -6.406853e-15  0.005757   \n",
       "\n",
       "       COI1_ESI  COI2_ESI      COI3_ESI  \n",
       "0  3.552714e-15  0.329670 -8.881784e-15  \n",
       "1  3.552714e-15  0.329670 -8.881784e-15  \n",
       "2  3.552714e-15  0.329670 -8.881784e-15  \n",
       "3  3.552714e-15  0.393189 -8.881784e-15  \n",
       "4  3.552714e-15  0.393189 -8.881784e-15  "
      ]
     },
     "execution_count": 3,
     "metadata": {},
     "output_type": "execute_result"
    }
   ],
   "source": [
    "df.head()"
   ]
  },
  {
   "cell_type": "code",
   "execution_count": null,
   "id": "21e4315a",
   "metadata": {},
   "outputs": [],
   "source": []
  },
  {
   "cell_type": "code",
   "execution_count": 4,
   "id": "7bd25142",
   "metadata": {},
   "outputs": [
    {
     "data": {
      "text/plain": [
       "(array([392.,   0.,   0.,   0.,   0.,   0.,   0.,   0.,   0.,   9.]),\n",
       " array([0. , 0.1, 0.2, 0.3, 0.4, 0.5, 0.6, 0.7, 0.8, 0.9, 1. ]),\n",
       " <BarContainer object of 10 artists>)"
      ]
     },
     "execution_count": 4,
     "metadata": {},
     "output_type": "execute_result"
    },
    {
     "data": {
      "image/png": "[encoded data removed]",
      "text/plain": [
       "<Figure size 432x288 with 1 Axes>"
      ]
     },
     "metadata": {
      "needs_background": "light"
     },
     "output_type": "display_data"
    }
   ],
   "source": [
    "plt.hist(df[\"COI0_Splits\"])\n",
    "plt.hist(df[\"COI1_Splits\"])\n",
    "plt.hist(df[\"COI2_Splits\"])\n",
    "plt.hist(df[\"COI3_Splits\"])"
   ]
  },
  {
   "cell_type": "code",
   "execution_count": 5,
   "id": "36826cca",
   "metadata": {},
   "outputs": [
    {
     "data": {
      "image/png": "[encoded data removed]",
      "text/plain": [
       "<Figure size 432x288 with 1 Axes>"
      ]
     },
     "metadata": {
      "needs_background": "light"
     },
     "output_type": "display_data"
    }
   ],
   "source": [
    "plt.scatter(df[\"COI0_UoM\"],df[\"COI0_Splits\"])\n",
    "plt.scatter(df[\"COI0_UoM\"],df[\"COI0_ESI\"])\n",
    "\n",
    "plt.show()"
   ]
  },
  {
   "cell_type": "code",
   "execution_count": 6,
   "id": "96861521",
   "metadata": {},
   "outputs": [
    {
     "data": {
      "image/png": "[encoded data removed]",
      "text/plain": [
       "<Figure size 432x288 with 1 Axes>"
      ]
     },
     "metadata": {
      "needs_background": "light"
     },
     "output_type": "display_data"
    }
   ],
   "source": [
    "plt.scatter(df[\"COI1_UoM\"],df[\"COI1_Splits\"])\n",
    "plt.scatter(df[\"COI1_UoM\"],df[\"COI1_ESI\"])\n",
    "plt.show()\n"
   ]
  },
  {
   "cell_type": "code",
   "execution_count": 7,
   "id": "544bba64",
   "metadata": {},
   "outputs": [
    {
     "data": {
      "image/png": "[encoded data removed]",
      "text/plain": [
       "<Figure size 432x288 with 1 Axes>"
      ]
     },
     "metadata": {
      "needs_background": "light"
     },
     "output_type": "display_data"
    }
   ],
   "source": [
    "plt.scatter(df[\"COI2_UoM\"],df[\"COI2_Splits\"])\n",
    "plt.scatter(df[\"COI2_UoM\"],df[\"COI2_ESI\"])\n",
    "plt.show()\n"
   ]
  },
  {
   "cell_type": "code",
   "execution_count": 11,
   "id": "5e1963f0",
   "metadata": {},
   "outputs": [
    {
     "data": {
      "image/png": "[encoded data removed]",
      "text/plain": [
       "<Figure size 432x288 with 2 Axes>"
      ]
     },
     "metadata": {
      "needs_background": "light"
     },
     "output_type": "display_data"
    }
   ],
   "source": [
    "plt.imshow(df.corr())\n",
    "plt.xticks(range(df.select_dtypes(['number']).shape[1]), df.select_dtypes(['number']).columns, fontsize=10, rotation=90)\n",
    "plt.yticks(range(df.select_dtypes(['number']).shape[1]), df.select_dtypes(['number']).columns, fontsize=10)\n",
    "cb = plt.colorbar()"
   ]
  },
  {
   "cell_type": "code",
   "execution_count": 20,
   "id": "9724304d",
   "metadata": {},
   "outputs": [
    {
     "data": {
      "text/html": [
       "<div>\n",
       "<style scoped>\n",
       "    .dataframe tbody tr th:only-of-type {\n",
       "        vertical-align: middle;\n",
       "    }\n",
       "\n",
       "    .dataframe tbody tr th {\n",
       "        vertical-align: top;\n",
       "    }\n",
       "\n",
       "    .dataframe thead th {\n",
       "        text-align: right;\n",
       "    }\n",
       "</style>\n",
       "<table border=\"1\" class=\"dataframe\">\n",
       "  <thead>\n",
       "    <tr style=\"text-align: right;\">\n",
       "      <th></th>\n",
       "      <th>Unnamed: 0</th>\n",
       "      <th>Step</th>\n",
       "      <th>county_splits</th>\n",
       "      <th>pop_deviation</th>\n",
       "      <th>cut_edges</th>\n",
       "      <th>Mean-median</th>\n",
       "      <th>Efficiency_gap</th>\n",
       "      <th>Dem_Victories</th>\n",
       "      <th>COI0_Splits</th>\n",
       "      <th>COI1_Splits</th>\n",
       "      <th>COI2_Splits</th>\n",
       "      <th>COI3_Splits</th>\n",
       "      <th>COI0_UoM</th>\n",
       "      <th>COI1_UoM</th>\n",
       "      <th>COI2_UoM</th>\n",
       "      <th>COI3_UoM</th>\n",
       "      <th>COI0_ESI</th>\n",
       "      <th>COI1_ESI</th>\n",
       "      <th>COI2_ESI</th>\n",
       "      <th>COI3_ESI</th>\n",
       "    </tr>\n",
       "  </thead>\n",
       "  <tbody>\n",
       "    <tr>\n",
       "      <th>100</th>\n",
       "      <td>100</td>\n",
       "      <td>100.0</td>\n",
       "      <td>39.0</td>\n",
       "      <td>0.01628</td>\n",
       "      <td>14085.0</td>\n",
       "      <td>-0.0213</td>\n",
       "      <td>0.008261</td>\n",
       "      <td>7.0</td>\n",
       "      <td>0.0</td>\n",
       "      <td>0.0</td>\n",
       "      <td>2.0</td>\n",
       "      <td>0.0</td>\n",
       "      <td>1.601713e-16</td>\n",
       "      <td>2.562741e-15</td>\n",
       "      <td>0.628526</td>\n",
       "      <td>-6.406853e-15</td>\n",
       "      <td>2.220446e-16</td>\n",
       "      <td>3.552714e-15</td>\n",
       "      <td>0.347278</td>\n",
       "      <td>-8.881784e-15</td>\n",
       "    </tr>\n",
       "  </tbody>\n",
       "</table>\n",
       "</div>"
      ],
      "text/plain": [
       "     Unnamed: 0   Step  county_splits  pop_deviation  cut_edges  Mean-median  \\\n",
       "100         100  100.0           39.0        0.01628    14085.0      -0.0213   \n",
       "\n",
       "     Efficiency_gap  Dem_Victories  COI0_Splits  COI1_Splits  COI2_Splits  \\\n",
       "100        0.008261            7.0          0.0          0.0          2.0   \n",
       "\n",
       "     COI3_Splits      COI0_UoM      COI1_UoM  COI2_UoM      COI3_UoM  \\\n",
       "100          0.0  1.601713e-16  2.562741e-15  0.628526 -6.406853e-15   \n",
       "\n",
       "         COI0_ESI      COI1_ESI  COI2_ESI      COI3_ESI  \n",
       "100  2.220446e-16  3.552714e-15  0.347278 -8.881784e-15  "
      ]
     },
     "execution_count": 20,
     "metadata": {},
     "output_type": "execute_result"
    }
   ],
   "source": [
    "df[df[\"Step\"]==100]"
   ]
  },
  {
   "cell_type": "code",
   "execution_count": null,
   "id": "58561507",
   "metadata": {},
   "outputs": [],
   "source": []
  },
  {
   "cell_type": "code",
   "execution_count": null,
   "id": "5f6c01a1",
   "metadata": {},
   "outputs": [],
   "source": []
  },
  {
   "cell_type": "code",
   "execution_count": null,
   "id": "42559cee",
   "metadata": {},
   "outputs": [],
   "source": []
  },
  {
   "cell_type": "code",
   "execution_count": null,
   "id": "cc95a4a5",
   "metadata": {},
   "outputs": [],
   "source": []
  },
  {
   "cell_type": "code",
   "execution_count": null,
   "id": "b97db423",
   "metadata": {},
   "outputs": [],
   "source": []
  }
 ],
 "metadata": {
  "kernelspec": {
   "display_name": "Python 3",
   "language": "python",
   "name": "python3"
  },
  "language_info": {
   "codemirror_mode": {
    "name": "ipython",
    "version": 3
   },
   "file_extension": ".py",
   "mimetype": "text/x-python",
   "name": "python",
   "nbconvert_exporter": "python",
   "pygments_lexer": "ipython3",
   "version": "3.8.10"
  }
 },
 "nbformat": 4,
 "nbformat_minor": 5
}
